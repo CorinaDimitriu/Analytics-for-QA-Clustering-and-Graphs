{
 "cells": [
  {
   "cell_type": "markdown",
   "id": "82d3ca72-bb8c-477a-b944-a6225f481176",
   "metadata": {},
   "source": [
    "# Checking GraphFrames functionality"
   ]
  },
  {
   "cell_type": "code",
   "execution_count": 1,
   "id": "bd654531-1292-4579-9e22-15d807834419",
   "metadata": {},
   "outputs": [],
   "source": [
    "from pyspark.sql import SparkSession"
   ]
  },
  {
   "cell_type": "code",
   "execution_count": 2,
   "id": "d657d546-64bf-4be4-b00b-7405ed94ecd5",
   "metadata": {},
   "outputs": [
    {
     "name": "stdout",
     "output_type": "stream",
     "text": [
      ":: loading settings :: url = jar:file:/usr/local/spark/jars/ivy-2.5.1.jar!/org/apache/ivy/core/settings/ivysettings.xml\n"
     ]
    },
    {
     "name": "stderr",
     "output_type": "stream",
     "text": [
      "Ivy Default Cache set to: /home/ubuntu/.ivy2/cache\n",
      "The jars for the packages stored in: /home/ubuntu/.ivy2/jars\n",
      "graphframes#graphframes added as a dependency\n",
      ":: resolving dependencies :: org.apache.spark#spark-submit-parent-062bc678-34e4-4886-a3ef-b3bfd625525c;1.0\n",
      "\tconfs: [default]\n",
      "\tfound graphframes#graphframes;0.8.4-spark3.5-s_2.12 in spark-packages\n",
      "\tfound org.slf4j#slf4j-api;1.7.16 in central\n",
      ":: resolution report :: resolve 120ms :: artifacts dl 4ms\n",
      "\t:: modules in use:\n",
      "\tgraphframes#graphframes;0.8.4-spark3.5-s_2.12 from spark-packages in [default]\n",
      "\torg.slf4j#slf4j-api;1.7.16 from central in [default]\n",
      "\t---------------------------------------------------------------------\n",
      "\t|                  |            modules            ||   artifacts   |\n",
      "\t|       conf       | number| search|dwnlded|evicted|| number|dwnlded|\n",
      "\t---------------------------------------------------------------------\n",
      "\t|      default     |   2   |   0   |   0   |   0   ||   2   |   0   |\n",
      "\t---------------------------------------------------------------------\n",
      ":: retrieving :: org.apache.spark#spark-submit-parent-062bc678-34e4-4886-a3ef-b3bfd625525c\n",
      "\tconfs: [default]\n",
      "\t0 artifacts copied, 2 already retrieved (0kB/4ms)\n",
      "25/01/13 18:16:19 WARN NativeCodeLoader: Unable to load native-hadoop library for your platform... using builtin-java classes where applicable\n",
      "Setting default log level to \"WARN\".\n",
      "To adjust logging level use sc.setLogLevel(newLevel). For SparkR, use setLogLevel(newLevel).\n"
     ]
    }
   ],
   "source": [
    "spark = (SparkSession.builder\n",
    "    .appName(\"Simple Graphs\")\n",
    "    .config('spark.executor.instances','2')\n",
    "    .config('spark.executor.memory','4G')\n",
    "    .config('spark.executor.cores','4')\n",
    "    .config('spark.dynamicAllocation.enabled','false') # musai??\n",
    "    .master('spark://master:7077')\n",
    "    .config(\"spark.jars.packages\", \"graphframes:graphframes:0.8.4-spark3.5-s_2.12\")\n",
    "    .getOrCreate()\n",
    ")\n",
    "from graphframes import GraphFrame\n"
   ]
  },
  {
   "cell_type": "code",
   "execution_count": 3,
   "id": "95528ce0-437f-4358-8924-589a95b7a905",
   "metadata": {},
   "outputs": [
    {
     "name": "stderr",
     "output_type": "stream",
     "text": [
      "                                                                                "
     ]
    },
    {
     "name": "stdout",
     "output_type": "stream",
     "text": [
      "+---+-------+\n",
      "| id|   name|\n",
      "+---+-------+\n",
      "|  1|  Alice|\n",
      "|  2|    Bob|\n",
      "|  3|Charlie|\n",
      "+---+-------+\n",
      "\n"
     ]
    },
    {
     "name": "stderr",
     "output_type": "stream",
     "text": [
      "                                                                                "
     ]
    },
    {
     "name": "stdout",
     "output_type": "stream",
     "text": [
      "+---+---+------------+\n",
      "|src|dst|relationship|\n",
      "+---+---+------------+\n",
      "|  1|  2|      friend|\n",
      "|  2|  3|      follow|\n",
      "+---+---+------------+\n",
      "\n",
      "+---+-------+\n",
      "| id|   name|\n",
      "+---+-------+\n",
      "|  2|    Bob|\n",
      "|  3|Charlie|\n",
      "+---+-------+\n",
      "\n",
      "+---+---+------------+\n",
      "|src|dst|relationship|\n",
      "+---+---+------------+\n",
      "|  1|  2|      friend|\n",
      "+---+---+------------+\n",
      "\n"
     ]
    }
   ],
   "source": [
    "def main():\n",
    "    vertices = spark.createDataFrame(\n",
    "        [(\"1\", \"Alice\"), (\"2\", \"Bob\"), (\"3\", \"Charlie\")], [\"id\", \"name\"]\n",
    "    )\n",
    "\n",
    "    edges = spark.createDataFrame(\n",
    "        [(\"1\", \"2\", \"friend\"), (\"2\", \"3\", \"follow\")], [\"src\", \"dst\", \"relationship\"]\n",
    "    )\n",
    "\n",
    "    graph = GraphFrame(vertices, edges)\n",
    "    graph.vertices.show()\n",
    "    graph.edges.show()\n",
    "\n",
    "    # Filtering vertices and edges\n",
    "    filtered_vertices = graph.vertices.filter(\"id > 1\")\n",
    "    filtered_edges = graph.edges.filter(\"relationship == 'friend'\")\n",
    "\n",
    "    filtered_vertices.show()\n",
    "    filtered_edges.show()\n",
    "\n",
    "main()"
   ]
  },
  {
   "cell_type": "markdown",
   "id": "69269587-8d8f-49c6-9f29-afd50a1497df",
   "metadata": {},
   "source": [
    "# Uploading and getting a dataset from hdfs"
   ]
  },
  {
   "cell_type": "code",
   "execution_count": 4,
   "id": "b2eee6ab-9cb3-45f4-a00c-addd7e9d666c",
   "metadata": {},
   "outputs": [],
   "source": [
    "# hdfs dfs -put /home/ubuntu/jupyter/datasets/hotpot_dev_distractor_v1.json /home/ubuntu/dev_dataset/\n",
    "# hdfs dfs -put /home/ubuntu/jupyter/datasets/hotpot_dev_distractor_v1.json /home/ubuntu/hotpot_dev_distractor_v1\n",
    "# hdfs dfs -rm -R /home/ubuntu/hotpot_dev_distractor_v1\n",
    "\n",
    "# In the end:\n",
    "# hdfs dfs -put /home/ubuntu/jupyter/datasets/hotpot_dev_distractor_v1.json /home/ubuntu/data/hotpot_dev_distractor_v1.json\n",
    "# hdfs dfs -put /home/ubuntu/jupyter/datasets/hotpot_train_v1.1.json /home/ubuntu/data/hotpot_train_v1.1.json\n",
    "# hdfs dfs -cp /home/ubuntu/data/hotpot_train_v1.1/ /home/ubuntu/jupyter/datasets/"
   ]
  },
  {
   "cell_type": "code",
   "execution_count": 3,
   "id": "0e93683e-fb0b-4704-9a34-e8e738145f20",
   "metadata": {},
   "outputs": [],
   "source": [
    "from pyspark.sql import SparkSession\n",
    "\n",
    "spark = (SparkSession.builder\n",
    "    .appName(\"Simple Graphs\")\n",
    "    .config('spark.executor.instances','2')\n",
    "    .config('spark.executor.memory','4G')\n",
    "    .config('spark.executor.cores','4')\n",
    "    .config('spark.dynamicAllocation.enabled','false') # musai??\n",
    "    .master('spark://master:7077')\n",
    "    .config(\"spark.jars.packages\", \"graphframes:graphframes:0.8.4-spark3.5-s_2.12\")\n",
    "    .getOrCreate()\n",
    ")"
   ]
  },
  {
   "cell_type": "code",
   "execution_count": 5,
   "id": "13e8ce38-0bbd-40c5-a88c-418ef1d44d8d",
   "metadata": {},
   "outputs": [
    {
     "name": "stderr",
     "output_type": "stream",
     "text": [
      "[Stage 3:>                                                          (0 + 1) / 1]"
     ]
    },
    {
     "name": "stdout",
     "output_type": "stream",
     "text": [
      "+--------------------+--------------------+--------------------+-----+--------------------+--------------------+----------+\n",
      "|                 _id|              answer|             context|level|            question|    supporting_facts|      type|\n",
      "+--------------------+--------------------+--------------------+-----+--------------------+--------------------+----------+\n",
      "|5a8b57f25542995d1...|                 yes|[[Ed Wood (film),...| hard|Were Scott Derric...|[[Scott Derrickso...|comparison|\n",
      "|5a8c7595554299585...|   Chief of Protocol|[[Meet Corliss Ar...| hard|What government p...|[[Kiss and Tell (...|    bridge|\n",
      "|5a85ea09554299477...|           Animorphs|[[Andre Norton Aw...| hard|What science fant...|[[The Hork-Bajir ...|    bridge|\n",
      "|5adbf0a255429947f...|                  no|[[Esma Sultan (da...| hard|Are the Laleli Mo...|[[Laleli Mosque, ...|comparison|\n",
      "|5a8e3ea95542995a2...|Greenwich Village...|[[Just Another Ro...| hard|The director of t...|[[Big Stone Gap (...|    bridge|\n",
      "+--------------------+--------------------+--------------------+-----+--------------------+--------------------+----------+\n",
      "\n"
     ]
    },
    {
     "name": "stderr",
     "output_type": "stream",
     "text": [
      "                                                                                "
     ]
    }
   ],
   "source": [
    "dataset_name='hotpot_dev_distractor_v1.json'\n",
    "\n",
    "dataset_path='/home/ubuntu/data/'+ dataset_name\n",
    "\n",
    "\n",
    "dataset=spark.read.json(dataset_path, multiLine=True)\n",
    "\n",
    "\n",
    "\n",
    "dataset.limit(5).show()"
   ]
  },
  {
   "cell_type": "markdown",
   "id": "1266886c-9e23-464c-9523-c22a89bf406e",
   "metadata": {},
   "source": [
    "# To save with a better format(parquet)"
   ]
  },
  {
   "cell_type": "code",
   "execution_count": 1,
   "id": "3e3b8ab8-9636-41bd-bf06-f6eaa57cb73a",
   "metadata": {},
   "outputs": [
    {
     "name": "stdout",
     "output_type": "stream",
     "text": [
      ":: loading settings :: url = jar:file:/usr/local/spark/jars/ivy-2.5.1.jar!/org/apache/ivy/core/settings/ivysettings.xml\n"
     ]
    },
    {
     "name": "stderr",
     "output_type": "stream",
     "text": [
      "Ivy Default Cache set to: /home/ubuntu/.ivy2/cache\n",
      "The jars for the packages stored in: /home/ubuntu/.ivy2/jars\n",
      "graphframes#graphframes added as a dependency\n",
      ":: resolving dependencies :: org.apache.spark#spark-submit-parent-655b53b4-6e3b-489d-ba06-8124154629d6;1.0\n",
      "\tconfs: [default]\n",
      "\tfound graphframes#graphframes;0.8.4-spark3.5-s_2.12 in spark-packages\n",
      "\tfound org.slf4j#slf4j-api;1.7.16 in central\n",
      ":: resolution report :: resolve 111ms :: artifacts dl 4ms\n",
      "\t:: modules in use:\n",
      "\tgraphframes#graphframes;0.8.4-spark3.5-s_2.12 from spark-packages in [default]\n",
      "\torg.slf4j#slf4j-api;1.7.16 from central in [default]\n",
      "\t---------------------------------------------------------------------\n",
      "\t|                  |            modules            ||   artifacts   |\n",
      "\t|       conf       | number| search|dwnlded|evicted|| number|dwnlded|\n",
      "\t---------------------------------------------------------------------\n",
      "\t|      default     |   2   |   0   |   0   |   0   ||   2   |   0   |\n",
      "\t---------------------------------------------------------------------\n",
      ":: retrieving :: org.apache.spark#spark-submit-parent-655b53b4-6e3b-489d-ba06-8124154629d6\n",
      "\tconfs: [default]\n",
      "\t0 artifacts copied, 2 already retrieved (0kB/4ms)\n",
      "25/01/15 20:41:08 WARN NativeCodeLoader: Unable to load native-hadoop library for your platform... using builtin-java classes where applicable\n",
      "Setting default log level to \"WARN\".\n",
      "To adjust logging level use sc.setLogLevel(newLevel). For SparkR, use setLogLevel(newLevel).\n",
      "                                                                                "
     ]
    }
   ],
   "source": [
    "from pyspark.sql import SparkSession\n",
    "\n",
    "spark = (SparkSession.builder\n",
    "    .appName(\"Simple Graphs\")\n",
    "    .config('spark.executor.instances','2')\n",
    "    .config('spark.executor.memory','4G')\n",
    "    .config('spark.executor.cores','4')\n",
    "    .config('spark.dynamicAllocation.enabled','false') # musai??\n",
    "    .master('spark://master:7077')\n",
    "    .config(\"spark.jars.packages\", \"graphframes:graphframes:0.8.4-spark3.5-s_2.12\")\n",
    "    .getOrCreate()\n",
    ")\n",
    "\n",
    "dataset_name='hotpot_dev_distractor_v1'\n",
    "dataset_extension='.json'\n",
    "\n",
    "dataset_path='/home/ubuntu/data/'+dataset_name+dataset_extension\n",
    "new_dataset_path='/home/ubuntu/data/'+dataset_name\n",
    "\n",
    "dataset=spark.read.json(dataset_path, multiLine=True)\n",
    "\n",
    "dataset.write.parquet(new_dataset_path, mode=\"overwrite\")"
   ]
  },
  {
   "cell_type": "code",
   "execution_count": 8,
   "id": "dffcd5d5-f2e4-485f-af39-63212e164e8f",
   "metadata": {},
   "outputs": [
    {
     "name": "stderr",
     "output_type": "stream",
     "text": [
      "[Stage 8:============================================>              (3 + 1) / 4]"
     ]
    },
    {
     "name": "stdout",
     "output_type": "stream",
     "text": [
      "+--------------------+--------------------+--------------------+-----+--------------------+--------------------+----------+\n",
      "|                 _id|              answer|             context|level|            question|    supporting_facts|      type|\n",
      "+--------------------+--------------------+--------------------+-----+--------------------+--------------------+----------+\n",
      "|5a8b57f25542995d1...|                 yes|[[Ed Wood (film),...| hard|Were Scott Derric...|[[Scott Derrickso...|comparison|\n",
      "|5a8c7595554299585...|   Chief of Protocol|[[Meet Corliss Ar...| hard|What government p...|[[Kiss and Tell (...|    bridge|\n",
      "|5a85ea09554299477...|           Animorphs|[[Andre Norton Aw...| hard|What science fant...|[[The Hork-Bajir ...|    bridge|\n",
      "|5adbf0a255429947f...|                  no|[[Esma Sultan (da...| hard|Are the Laleli Mo...|[[Laleli Mosque, ...|comparison|\n",
      "|5a8e3ea95542995a2...|Greenwich Village...|[[Just Another Ro...| hard|The director of t...|[[Big Stone Gap (...|    bridge|\n",
      "+--------------------+--------------------+--------------------+-----+--------------------+--------------------+----------+\n",
      "\n"
     ]
    },
    {
     "name": "stderr",
     "output_type": "stream",
     "text": [
      "                                                                                "
     ]
    }
   ],
   "source": [
    "from pyspark.sql import SparkSession\n",
    "\n",
    "spark = (SparkSession.builder\n",
    "    .appName(\"Simple Graphs\")\n",
    "    .config('spark.executor.instances','2')\n",
    "    .config('spark.executor.memory','4G')\n",
    "    .config('spark.executor.cores','4')\n",
    "    .config('spark.dynamicAllocation.enabled','false') # musai??\n",
    "    .master('spark://master:7077')\n",
    "    .config(\"spark.jars.packages\", \"graphframes:graphframes:0.8.4-spark3.5-s_2.12\")\n",
    "    .getOrCreate()\n",
    ")\n",
    "\n",
    "dataset_name='hotpot_dev_distractor_v1.parquet'\n",
    "\n",
    "dataset_path='/home/ubuntu/data/'+dataset_name\n",
    "\n",
    "\n",
    "dataset=spark.read.parquet(dataset_path)\n",
    "\n",
    "\n",
    "\n",
    "dataset.limit(5).show()"
   ]
  },
  {
   "cell_type": "code",
   "execution_count": null,
   "id": "f63532a7-1275-41ae-be09-6c5fd0b5384e",
   "metadata": {},
   "outputs": [],
   "source": []
  }
 ],
 "metadata": {
  "kernelspec": {
   "display_name": "Python 3 (ipykernel)",
   "language": "python",
   "name": "python3"
  },
  "language_info": {
   "codemirror_mode": {
    "name": "ipython",
    "version": 3
   },
   "file_extension": ".py",
   "mimetype": "text/x-python",
   "name": "python",
   "nbconvert_exporter": "python",
   "pygments_lexer": "ipython3",
   "version": "3.10.12"
  }
 },
 "nbformat": 4,
 "nbformat_minor": 5
}
